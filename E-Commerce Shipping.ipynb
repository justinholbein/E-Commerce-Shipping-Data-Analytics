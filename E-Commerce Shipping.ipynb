{
 "cells": [
  {
   "cell_type": "code",
   "execution_count": 1,
   "id": "e46b1ee1",
   "metadata": {},
   "outputs": [],
   "source": [
    "import pandas as pd\n",
    "import numpy as np\n",
    "import matplotlib.pyplot as plt\n",
    "import seaborn as sns\n",
    "import statsmodels.api as sm\n",
    "from collections import Counter"
   ]
  },
  {
   "cell_type": "markdown",
   "id": "a04e501e",
   "metadata": {},
   "source": [
    "# E-Commerce Shipping Data Exploration and Analysis"
   ]
  },
  {
   "cell_type": "markdown",
   "id": "95ac0690",
   "metadata": {},
   "source": [
    "## Backround and Introduction"
   ]
  },
  {
   "cell_type": "markdown",
   "id": "e6b93ed6",
   "metadata": {},
   "source": [
    "E-Commerce shipping wants to discover key insights for their customer database. Some key insights the data analytics team are exploring are what variables are correlated with a higher customer rating, and what factors are correlated with on vs. off-time deliveries. The goal of this analysis is to understand how to improve E-Commerce Shipping’s delivery times, and uncover any correlated factors for increasing customer satisfaction."
   ]
  },
  {
   "cell_type": "markdown",
   "id": "b9605239",
   "metadata": {},
   "source": [
    "What opportunities exist for E-Commerce Shipping to increase it’s on-time deliveries by at least 10% and uncover correlated factors of customer satisfaction or cost reduction by analysing warehouse data, shipment modes, and corresponding customer data?"
   ]
  },
  {
   "cell_type": "markdown",
   "id": "d54be756",
   "metadata": {},
   "source": [
    "## First Data Inspection"
   ]
  },
  {
   "cell_type": "markdown",
   "id": "ae6c371c",
   "metadata": {},
   "source": [
    "Turn dataset into a Dataframe"
   ]
  },
  {
   "cell_type": "code",
   "execution_count": 2,
   "id": "5d223a8a",
   "metadata": {},
   "outputs": [],
   "source": [
    "shipping_df = pd.read_csv(\"E-Commerce Shipping Data_train.csv\")"
   ]
  },
  {
   "cell_type": "markdown",
   "id": "42c56329",
   "metadata": {},
   "source": [
    "Read head and tail of df"
   ]
  },
  {
   "cell_type": "code",
   "execution_count": 3,
   "id": "dbfd3f90",
   "metadata": {},
   "outputs": [
    {
     "data": {
      "text/html": [
       "<div>\n",
       "<style scoped>\n",
       "    .dataframe tbody tr th:only-of-type {\n",
       "        vertical-align: middle;\n",
       "    }\n",
       "\n",
       "    .dataframe tbody tr th {\n",
       "        vertical-align: top;\n",
       "    }\n",
       "\n",
       "    .dataframe thead th {\n",
       "        text-align: right;\n",
       "    }\n",
       "</style>\n",
       "<table border=\"1\" class=\"dataframe\">\n",
       "  <thead>\n",
       "    <tr style=\"text-align: right;\">\n",
       "      <th></th>\n",
       "      <th>ID</th>\n",
       "      <th>Warehouse_block</th>\n",
       "      <th>Mode_of_Shipment</th>\n",
       "      <th>Customer_care_calls</th>\n",
       "      <th>Customer_rating</th>\n",
       "      <th>Cost_of_the_Product</th>\n",
       "      <th>Prior_purchases</th>\n",
       "      <th>Product_importance</th>\n",
       "      <th>Gender</th>\n",
       "      <th>Discount_offered</th>\n",
       "      <th>Weight_in_gms</th>\n",
       "      <th>Reached.on.Time_Y.N</th>\n",
       "    </tr>\n",
       "  </thead>\n",
       "  <tbody>\n",
       "    <tr>\n",
       "      <th>0</th>\n",
       "      <td>1</td>\n",
       "      <td>D</td>\n",
       "      <td>Flight</td>\n",
       "      <td>4</td>\n",
       "      <td>2</td>\n",
       "      <td>177</td>\n",
       "      <td>3</td>\n",
       "      <td>low</td>\n",
       "      <td>F</td>\n",
       "      <td>44</td>\n",
       "      <td>1233</td>\n",
       "      <td>1</td>\n",
       "    </tr>\n",
       "    <tr>\n",
       "      <th>1</th>\n",
       "      <td>2</td>\n",
       "      <td>F</td>\n",
       "      <td>Flight</td>\n",
       "      <td>4</td>\n",
       "      <td>5</td>\n",
       "      <td>216</td>\n",
       "      <td>2</td>\n",
       "      <td>low</td>\n",
       "      <td>M</td>\n",
       "      <td>59</td>\n",
       "      <td>3088</td>\n",
       "      <td>1</td>\n",
       "    </tr>\n",
       "    <tr>\n",
       "      <th>2</th>\n",
       "      <td>3</td>\n",
       "      <td>A</td>\n",
       "      <td>Flight</td>\n",
       "      <td>2</td>\n",
       "      <td>2</td>\n",
       "      <td>183</td>\n",
       "      <td>4</td>\n",
       "      <td>low</td>\n",
       "      <td>M</td>\n",
       "      <td>48</td>\n",
       "      <td>3374</td>\n",
       "      <td>1</td>\n",
       "    </tr>\n",
       "    <tr>\n",
       "      <th>3</th>\n",
       "      <td>4</td>\n",
       "      <td>B</td>\n",
       "      <td>Flight</td>\n",
       "      <td>3</td>\n",
       "      <td>3</td>\n",
       "      <td>176</td>\n",
       "      <td>4</td>\n",
       "      <td>medium</td>\n",
       "      <td>M</td>\n",
       "      <td>10</td>\n",
       "      <td>1177</td>\n",
       "      <td>1</td>\n",
       "    </tr>\n",
       "    <tr>\n",
       "      <th>4</th>\n",
       "      <td>5</td>\n",
       "      <td>C</td>\n",
       "      <td>Flight</td>\n",
       "      <td>2</td>\n",
       "      <td>2</td>\n",
       "      <td>184</td>\n",
       "      <td>3</td>\n",
       "      <td>medium</td>\n",
       "      <td>F</td>\n",
       "      <td>46</td>\n",
       "      <td>2484</td>\n",
       "      <td>1</td>\n",
       "    </tr>\n",
       "    <tr>\n",
       "      <th>...</th>\n",
       "      <td>...</td>\n",
       "      <td>...</td>\n",
       "      <td>...</td>\n",
       "      <td>...</td>\n",
       "      <td>...</td>\n",
       "      <td>...</td>\n",
       "      <td>...</td>\n",
       "      <td>...</td>\n",
       "      <td>...</td>\n",
       "      <td>...</td>\n",
       "      <td>...</td>\n",
       "      <td>...</td>\n",
       "    </tr>\n",
       "    <tr>\n",
       "      <th>10994</th>\n",
       "      <td>10995</td>\n",
       "      <td>A</td>\n",
       "      <td>Ship</td>\n",
       "      <td>4</td>\n",
       "      <td>1</td>\n",
       "      <td>252</td>\n",
       "      <td>5</td>\n",
       "      <td>medium</td>\n",
       "      <td>F</td>\n",
       "      <td>1</td>\n",
       "      <td>1538</td>\n",
       "      <td>1</td>\n",
       "    </tr>\n",
       "    <tr>\n",
       "      <th>10995</th>\n",
       "      <td>10996</td>\n",
       "      <td>B</td>\n",
       "      <td>Ship</td>\n",
       "      <td>4</td>\n",
       "      <td>1</td>\n",
       "      <td>232</td>\n",
       "      <td>5</td>\n",
       "      <td>medium</td>\n",
       "      <td>F</td>\n",
       "      <td>6</td>\n",
       "      <td>1247</td>\n",
       "      <td>0</td>\n",
       "    </tr>\n",
       "    <tr>\n",
       "      <th>10996</th>\n",
       "      <td>10997</td>\n",
       "      <td>C</td>\n",
       "      <td>Ship</td>\n",
       "      <td>5</td>\n",
       "      <td>4</td>\n",
       "      <td>242</td>\n",
       "      <td>5</td>\n",
       "      <td>low</td>\n",
       "      <td>F</td>\n",
       "      <td>4</td>\n",
       "      <td>1155</td>\n",
       "      <td>0</td>\n",
       "    </tr>\n",
       "    <tr>\n",
       "      <th>10997</th>\n",
       "      <td>10998</td>\n",
       "      <td>F</td>\n",
       "      <td>Ship</td>\n",
       "      <td>5</td>\n",
       "      <td>2</td>\n",
       "      <td>223</td>\n",
       "      <td>6</td>\n",
       "      <td>medium</td>\n",
       "      <td>M</td>\n",
       "      <td>2</td>\n",
       "      <td>1210</td>\n",
       "      <td>0</td>\n",
       "    </tr>\n",
       "    <tr>\n",
       "      <th>10998</th>\n",
       "      <td>10999</td>\n",
       "      <td>D</td>\n",
       "      <td>Ship</td>\n",
       "      <td>2</td>\n",
       "      <td>5</td>\n",
       "      <td>155</td>\n",
       "      <td>5</td>\n",
       "      <td>low</td>\n",
       "      <td>F</td>\n",
       "      <td>6</td>\n",
       "      <td>1639</td>\n",
       "      <td>0</td>\n",
       "    </tr>\n",
       "  </tbody>\n",
       "</table>\n",
       "<p>10999 rows × 12 columns</p>\n",
       "</div>"
      ],
      "text/plain": [
       "          ID Warehouse_block Mode_of_Shipment  Customer_care_calls  \\\n",
       "0          1               D           Flight                    4   \n",
       "1          2               F           Flight                    4   \n",
       "2          3               A           Flight                    2   \n",
       "3          4               B           Flight                    3   \n",
       "4          5               C           Flight                    2   \n",
       "...      ...             ...              ...                  ...   \n",
       "10994  10995               A             Ship                    4   \n",
       "10995  10996               B             Ship                    4   \n",
       "10996  10997               C             Ship                    5   \n",
       "10997  10998               F             Ship                    5   \n",
       "10998  10999               D             Ship                    2   \n",
       "\n",
       "       Customer_rating  Cost_of_the_Product  Prior_purchases  \\\n",
       "0                    2                  177                3   \n",
       "1                    5                  216                2   \n",
       "2                    2                  183                4   \n",
       "3                    3                  176                4   \n",
       "4                    2                  184                3   \n",
       "...                ...                  ...              ...   \n",
       "10994                1                  252                5   \n",
       "10995                1                  232                5   \n",
       "10996                4                  242                5   \n",
       "10997                2                  223                6   \n",
       "10998                5                  155                5   \n",
       "\n",
       "      Product_importance Gender  Discount_offered  Weight_in_gms  \\\n",
       "0                    low      F                44           1233   \n",
       "1                    low      M                59           3088   \n",
       "2                    low      M                48           3374   \n",
       "3                 medium      M                10           1177   \n",
       "4                 medium      F                46           2484   \n",
       "...                  ...    ...               ...            ...   \n",
       "10994             medium      F                 1           1538   \n",
       "10995             medium      F                 6           1247   \n",
       "10996                low      F                 4           1155   \n",
       "10997             medium      M                 2           1210   \n",
       "10998                low      F                 6           1639   \n",
       "\n",
       "       Reached.on.Time_Y.N  \n",
       "0                        1  \n",
       "1                        1  \n",
       "2                        1  \n",
       "3                        1  \n",
       "4                        1  \n",
       "...                    ...  \n",
       "10994                    1  \n",
       "10995                    0  \n",
       "10996                    0  \n",
       "10997                    0  \n",
       "10998                    0  \n",
       "\n",
       "[10999 rows x 12 columns]"
      ]
     },
     "execution_count": 3,
     "metadata": {},
     "output_type": "execute_result"
    }
   ],
   "source": [
    "shipping_df"
   ]
  },
  {
   "cell_type": "code",
   "execution_count": 4,
   "id": "b08e12ed",
   "metadata": {
    "scrolled": true
   },
   "outputs": [
    {
     "name": "stdout",
     "output_type": "stream",
     "text": [
      "<class 'pandas.core.frame.DataFrame'>\n",
      "RangeIndex: 10999 entries, 0 to 10998\n",
      "Data columns (total 12 columns):\n",
      " #   Column               Non-Null Count  Dtype \n",
      "---  ------               --------------  ----- \n",
      " 0   ID                   10999 non-null  int64 \n",
      " 1   Warehouse_block      10999 non-null  object\n",
      " 2   Mode_of_Shipment     10999 non-null  object\n",
      " 3   Customer_care_calls  10999 non-null  int64 \n",
      " 4   Customer_rating      10999 non-null  int64 \n",
      " 5   Cost_of_the_Product  10999 non-null  int64 \n",
      " 6   Prior_purchases      10999 non-null  int64 \n",
      " 7   Product_importance   10999 non-null  object\n",
      " 8   Gender               10999 non-null  object\n",
      " 9   Discount_offered     10999 non-null  int64 \n",
      " 10  Weight_in_gms        10999 non-null  int64 \n",
      " 11  Reached.on.Time_Y.N  10999 non-null  int64 \n",
      "dtypes: int64(8), object(4)\n",
      "memory usage: 1.0+ MB\n"
     ]
    }
   ],
   "source": [
    "shipping_df.info()"
   ]
  },
  {
   "cell_type": "markdown",
   "id": "5ef1e187",
   "metadata": {},
   "source": [
    "Eleven columns. 4 columns of categorical variables, with 7 numerical columns.\n",
    "No missing or ambiguous data is contained within the dataset."
   ]
  },
  {
   "cell_type": "markdown",
   "id": "3d76acc2",
   "metadata": {},
   "source": [
    "### Initial statistics"
   ]
  },
  {
   "cell_type": "code",
   "execution_count": 5,
   "id": "2ce65cc3",
   "metadata": {},
   "outputs": [
    {
     "data": {
      "text/html": [
       "<div>\n",
       "<style scoped>\n",
       "    .dataframe tbody tr th:only-of-type {\n",
       "        vertical-align: middle;\n",
       "    }\n",
       "\n",
       "    .dataframe tbody tr th {\n",
       "        vertical-align: top;\n",
       "    }\n",
       "\n",
       "    .dataframe thead th {\n",
       "        text-align: right;\n",
       "    }\n",
       "</style>\n",
       "<table border=\"1\" class=\"dataframe\">\n",
       "  <thead>\n",
       "    <tr style=\"text-align: right;\">\n",
       "      <th></th>\n",
       "      <th>ID</th>\n",
       "      <th>Customer_care_calls</th>\n",
       "      <th>Customer_rating</th>\n",
       "      <th>Cost_of_the_Product</th>\n",
       "      <th>Prior_purchases</th>\n",
       "      <th>Discount_offered</th>\n",
       "      <th>Weight_in_gms</th>\n",
       "      <th>Reached.on.Time_Y.N</th>\n",
       "    </tr>\n",
       "  </thead>\n",
       "  <tbody>\n",
       "    <tr>\n",
       "      <th>count</th>\n",
       "      <td>10999.00000</td>\n",
       "      <td>10999.000000</td>\n",
       "      <td>10999.000000</td>\n",
       "      <td>10999.000000</td>\n",
       "      <td>10999.000000</td>\n",
       "      <td>10999.000000</td>\n",
       "      <td>10999.000000</td>\n",
       "      <td>10999.000000</td>\n",
       "    </tr>\n",
       "    <tr>\n",
       "      <th>mean</th>\n",
       "      <td>5500.00000</td>\n",
       "      <td>4.054459</td>\n",
       "      <td>2.990545</td>\n",
       "      <td>210.196836</td>\n",
       "      <td>3.567597</td>\n",
       "      <td>13.373216</td>\n",
       "      <td>3634.016729</td>\n",
       "      <td>0.596691</td>\n",
       "    </tr>\n",
       "    <tr>\n",
       "      <th>std</th>\n",
       "      <td>3175.28214</td>\n",
       "      <td>1.141490</td>\n",
       "      <td>1.413603</td>\n",
       "      <td>48.063272</td>\n",
       "      <td>1.522860</td>\n",
       "      <td>16.205527</td>\n",
       "      <td>1635.377251</td>\n",
       "      <td>0.490584</td>\n",
       "    </tr>\n",
       "    <tr>\n",
       "      <th>min</th>\n",
       "      <td>1.00000</td>\n",
       "      <td>2.000000</td>\n",
       "      <td>1.000000</td>\n",
       "      <td>96.000000</td>\n",
       "      <td>2.000000</td>\n",
       "      <td>1.000000</td>\n",
       "      <td>1001.000000</td>\n",
       "      <td>0.000000</td>\n",
       "    </tr>\n",
       "    <tr>\n",
       "      <th>25%</th>\n",
       "      <td>2750.50000</td>\n",
       "      <td>3.000000</td>\n",
       "      <td>2.000000</td>\n",
       "      <td>169.000000</td>\n",
       "      <td>3.000000</td>\n",
       "      <td>4.000000</td>\n",
       "      <td>1839.500000</td>\n",
       "      <td>0.000000</td>\n",
       "    </tr>\n",
       "    <tr>\n",
       "      <th>50%</th>\n",
       "      <td>5500.00000</td>\n",
       "      <td>4.000000</td>\n",
       "      <td>3.000000</td>\n",
       "      <td>214.000000</td>\n",
       "      <td>3.000000</td>\n",
       "      <td>7.000000</td>\n",
       "      <td>4149.000000</td>\n",
       "      <td>1.000000</td>\n",
       "    </tr>\n",
       "    <tr>\n",
       "      <th>75%</th>\n",
       "      <td>8249.50000</td>\n",
       "      <td>5.000000</td>\n",
       "      <td>4.000000</td>\n",
       "      <td>251.000000</td>\n",
       "      <td>4.000000</td>\n",
       "      <td>10.000000</td>\n",
       "      <td>5050.000000</td>\n",
       "      <td>1.000000</td>\n",
       "    </tr>\n",
       "    <tr>\n",
       "      <th>max</th>\n",
       "      <td>10999.00000</td>\n",
       "      <td>7.000000</td>\n",
       "      <td>5.000000</td>\n",
       "      <td>310.000000</td>\n",
       "      <td>10.000000</td>\n",
       "      <td>65.000000</td>\n",
       "      <td>7846.000000</td>\n",
       "      <td>1.000000</td>\n",
       "    </tr>\n",
       "  </tbody>\n",
       "</table>\n",
       "</div>"
      ],
      "text/plain": [
       "                ID  Customer_care_calls  Customer_rating  Cost_of_the_Product  \\\n",
       "count  10999.00000         10999.000000     10999.000000         10999.000000   \n",
       "mean    5500.00000             4.054459         2.990545           210.196836   \n",
       "std     3175.28214             1.141490         1.413603            48.063272   \n",
       "min        1.00000             2.000000         1.000000            96.000000   \n",
       "25%     2750.50000             3.000000         2.000000           169.000000   \n",
       "50%     5500.00000             4.000000         3.000000           214.000000   \n",
       "75%     8249.50000             5.000000         4.000000           251.000000   \n",
       "max    10999.00000             7.000000         5.000000           310.000000   \n",
       "\n",
       "       Prior_purchases  Discount_offered  Weight_in_gms  Reached.on.Time_Y.N  \n",
       "count     10999.000000      10999.000000   10999.000000         10999.000000  \n",
       "mean          3.567597         13.373216    3634.016729             0.596691  \n",
       "std           1.522860         16.205527    1635.377251             0.490584  \n",
       "min           2.000000          1.000000    1001.000000             0.000000  \n",
       "25%           3.000000          4.000000    1839.500000             0.000000  \n",
       "50%           3.000000          7.000000    4149.000000             1.000000  \n",
       "75%           4.000000         10.000000    5050.000000             1.000000  \n",
       "max          10.000000         65.000000    7846.000000             1.000000  "
      ]
     },
     "execution_count": 5,
     "metadata": {},
     "output_type": "execute_result"
    }
   ],
   "source": [
    "shipping_df.describe()"
   ]
  },
  {
   "cell_type": "markdown",
   "id": "d3aebc3e",
   "metadata": {},
   "source": [
    "Initial exploration of the data reveals warehouse F to be the top warehouse block, with shipping the most frequently used shipment type accross the dataset, and most products being shipped with a low product importance.\n",
    "\n",
    "Specifically for our business problem, deliveries reached customers on time 59.6% of the time. 40% of E-Commerce shippings deliveries were late. This analysis will focus on opportunities to improve Are there any opportunities for E-Commerce shipping to improve this metric by at least 10%, and explore any opportunities to reduce costs or boost customer satisfaction."
   ]
  },
  {
   "cell_type": "code",
   "execution_count": 6,
   "id": "9917f976",
   "metadata": {},
   "outputs": [
    {
     "data": {
      "text/html": [
       "<div>\n",
       "<style scoped>\n",
       "    .dataframe tbody tr th:only-of-type {\n",
       "        vertical-align: middle;\n",
       "    }\n",
       "\n",
       "    .dataframe tbody tr th {\n",
       "        vertical-align: top;\n",
       "    }\n",
       "\n",
       "    .dataframe thead th {\n",
       "        text-align: right;\n",
       "    }\n",
       "</style>\n",
       "<table border=\"1\" class=\"dataframe\">\n",
       "  <thead>\n",
       "    <tr style=\"text-align: right;\">\n",
       "      <th></th>\n",
       "      <th>Warehouse_block</th>\n",
       "      <th>Mode_of_Shipment</th>\n",
       "      <th>Product_importance</th>\n",
       "      <th>Gender</th>\n",
       "    </tr>\n",
       "  </thead>\n",
       "  <tbody>\n",
       "    <tr>\n",
       "      <th>count</th>\n",
       "      <td>10999</td>\n",
       "      <td>10999</td>\n",
       "      <td>10999</td>\n",
       "      <td>10999</td>\n",
       "    </tr>\n",
       "    <tr>\n",
       "      <th>unique</th>\n",
       "      <td>5</td>\n",
       "      <td>3</td>\n",
       "      <td>3</td>\n",
       "      <td>2</td>\n",
       "    </tr>\n",
       "    <tr>\n",
       "      <th>top</th>\n",
       "      <td>F</td>\n",
       "      <td>Ship</td>\n",
       "      <td>low</td>\n",
       "      <td>F</td>\n",
       "    </tr>\n",
       "    <tr>\n",
       "      <th>freq</th>\n",
       "      <td>3666</td>\n",
       "      <td>7462</td>\n",
       "      <td>5297</td>\n",
       "      <td>5545</td>\n",
       "    </tr>\n",
       "  </tbody>\n",
       "</table>\n",
       "</div>"
      ],
      "text/plain": [
       "       Warehouse_block Mode_of_Shipment Product_importance Gender\n",
       "count            10999            10999              10999  10999\n",
       "unique               5                3                  3      2\n",
       "top                  F             Ship                low      F\n",
       "freq              3666             7462               5297   5545"
      ]
     },
     "execution_count": 6,
     "metadata": {},
     "output_type": "execute_result"
    }
   ],
   "source": [
    "shipping_df.describe(include=object)"
   ]
  },
  {
   "cell_type": "code",
   "execution_count": 43,
   "id": "738cc267",
   "metadata": {},
   "outputs": [
    {
     "data": {
      "text/html": [
       "<div>\n",
       "<style scoped>\n",
       "    .dataframe tbody tr th:only-of-type {\n",
       "        vertical-align: middle;\n",
       "    }\n",
       "\n",
       "    .dataframe tbody tr th {\n",
       "        vertical-align: top;\n",
       "    }\n",
       "\n",
       "    .dataframe thead th {\n",
       "        text-align: right;\n",
       "    }\n",
       "</style>\n",
       "<table border=\"1\" class=\"dataframe\">\n",
       "  <thead>\n",
       "    <tr style=\"text-align: right;\">\n",
       "      <th></th>\n",
       "      <th>Warehouse_block_A</th>\n",
       "      <th>Warehouse_block_B</th>\n",
       "      <th>Warehouse_block_C</th>\n",
       "      <th>Warehouse_block_D</th>\n",
       "      <th>Warehouse_block_F</th>\n",
       "      <th>Mode_of_Shipment_Flight</th>\n",
       "      <th>Mode_of_Shipment_Road</th>\n",
       "      <th>Mode_of_Shipment_Ship</th>\n",
       "      <th>Product_importance_high</th>\n",
       "      <th>Product_importance_low</th>\n",
       "      <th>Product_importance_medium</th>\n",
       "      <th>Gender_F</th>\n",
       "      <th>Gender_M</th>\n",
       "    </tr>\n",
       "  </thead>\n",
       "  <tbody>\n",
       "    <tr>\n",
       "      <th>0</th>\n",
       "      <td>0</td>\n",
       "      <td>0</td>\n",
       "      <td>0</td>\n",
       "      <td>1</td>\n",
       "      <td>0</td>\n",
       "      <td>1</td>\n",
       "      <td>0</td>\n",
       "      <td>0</td>\n",
       "      <td>0</td>\n",
       "      <td>1</td>\n",
       "      <td>0</td>\n",
       "      <td>1</td>\n",
       "      <td>0</td>\n",
       "    </tr>\n",
       "    <tr>\n",
       "      <th>1</th>\n",
       "      <td>0</td>\n",
       "      <td>0</td>\n",
       "      <td>0</td>\n",
       "      <td>0</td>\n",
       "      <td>1</td>\n",
       "      <td>1</td>\n",
       "      <td>0</td>\n",
       "      <td>0</td>\n",
       "      <td>0</td>\n",
       "      <td>1</td>\n",
       "      <td>0</td>\n",
       "      <td>0</td>\n",
       "      <td>1</td>\n",
       "    </tr>\n",
       "    <tr>\n",
       "      <th>2</th>\n",
       "      <td>1</td>\n",
       "      <td>0</td>\n",
       "      <td>0</td>\n",
       "      <td>0</td>\n",
       "      <td>0</td>\n",
       "      <td>1</td>\n",
       "      <td>0</td>\n",
       "      <td>0</td>\n",
       "      <td>0</td>\n",
       "      <td>1</td>\n",
       "      <td>0</td>\n",
       "      <td>0</td>\n",
       "      <td>1</td>\n",
       "    </tr>\n",
       "    <tr>\n",
       "      <th>3</th>\n",
       "      <td>0</td>\n",
       "      <td>1</td>\n",
       "      <td>0</td>\n",
       "      <td>0</td>\n",
       "      <td>0</td>\n",
       "      <td>1</td>\n",
       "      <td>0</td>\n",
       "      <td>0</td>\n",
       "      <td>0</td>\n",
       "      <td>0</td>\n",
       "      <td>1</td>\n",
       "      <td>0</td>\n",
       "      <td>1</td>\n",
       "    </tr>\n",
       "    <tr>\n",
       "      <th>4</th>\n",
       "      <td>0</td>\n",
       "      <td>0</td>\n",
       "      <td>1</td>\n",
       "      <td>0</td>\n",
       "      <td>0</td>\n",
       "      <td>1</td>\n",
       "      <td>0</td>\n",
       "      <td>0</td>\n",
       "      <td>0</td>\n",
       "      <td>0</td>\n",
       "      <td>1</td>\n",
       "      <td>1</td>\n",
       "      <td>0</td>\n",
       "    </tr>\n",
       "    <tr>\n",
       "      <th>...</th>\n",
       "      <td>...</td>\n",
       "      <td>...</td>\n",
       "      <td>...</td>\n",
       "      <td>...</td>\n",
       "      <td>...</td>\n",
       "      <td>...</td>\n",
       "      <td>...</td>\n",
       "      <td>...</td>\n",
       "      <td>...</td>\n",
       "      <td>...</td>\n",
       "      <td>...</td>\n",
       "      <td>...</td>\n",
       "      <td>...</td>\n",
       "    </tr>\n",
       "    <tr>\n",
       "      <th>10994</th>\n",
       "      <td>1</td>\n",
       "      <td>0</td>\n",
       "      <td>0</td>\n",
       "      <td>0</td>\n",
       "      <td>0</td>\n",
       "      <td>0</td>\n",
       "      <td>0</td>\n",
       "      <td>1</td>\n",
       "      <td>0</td>\n",
       "      <td>0</td>\n",
       "      <td>1</td>\n",
       "      <td>1</td>\n",
       "      <td>0</td>\n",
       "    </tr>\n",
       "    <tr>\n",
       "      <th>10995</th>\n",
       "      <td>0</td>\n",
       "      <td>1</td>\n",
       "      <td>0</td>\n",
       "      <td>0</td>\n",
       "      <td>0</td>\n",
       "      <td>0</td>\n",
       "      <td>0</td>\n",
       "      <td>1</td>\n",
       "      <td>0</td>\n",
       "      <td>0</td>\n",
       "      <td>1</td>\n",
       "      <td>1</td>\n",
       "      <td>0</td>\n",
       "    </tr>\n",
       "    <tr>\n",
       "      <th>10996</th>\n",
       "      <td>0</td>\n",
       "      <td>0</td>\n",
       "      <td>1</td>\n",
       "      <td>0</td>\n",
       "      <td>0</td>\n",
       "      <td>0</td>\n",
       "      <td>0</td>\n",
       "      <td>1</td>\n",
       "      <td>0</td>\n",
       "      <td>1</td>\n",
       "      <td>0</td>\n",
       "      <td>1</td>\n",
       "      <td>0</td>\n",
       "    </tr>\n",
       "    <tr>\n",
       "      <th>10997</th>\n",
       "      <td>0</td>\n",
       "      <td>0</td>\n",
       "      <td>0</td>\n",
       "      <td>0</td>\n",
       "      <td>1</td>\n",
       "      <td>0</td>\n",
       "      <td>0</td>\n",
       "      <td>1</td>\n",
       "      <td>0</td>\n",
       "      <td>0</td>\n",
       "      <td>1</td>\n",
       "      <td>0</td>\n",
       "      <td>1</td>\n",
       "    </tr>\n",
       "    <tr>\n",
       "      <th>10998</th>\n",
       "      <td>0</td>\n",
       "      <td>0</td>\n",
       "      <td>0</td>\n",
       "      <td>1</td>\n",
       "      <td>0</td>\n",
       "      <td>0</td>\n",
       "      <td>0</td>\n",
       "      <td>1</td>\n",
       "      <td>0</td>\n",
       "      <td>1</td>\n",
       "      <td>0</td>\n",
       "      <td>1</td>\n",
       "      <td>0</td>\n",
       "    </tr>\n",
       "  </tbody>\n",
       "</table>\n",
       "<p>10999 rows × 13 columns</p>\n",
       "</div>"
      ],
      "text/plain": [
       "       Warehouse_block_A  Warehouse_block_B  Warehouse_block_C  \\\n",
       "0                      0                  0                  0   \n",
       "1                      0                  0                  0   \n",
       "2                      1                  0                  0   \n",
       "3                      0                  1                  0   \n",
       "4                      0                  0                  1   \n",
       "...                  ...                ...                ...   \n",
       "10994                  1                  0                  0   \n",
       "10995                  0                  1                  0   \n",
       "10996                  0                  0                  1   \n",
       "10997                  0                  0                  0   \n",
       "10998                  0                  0                  0   \n",
       "\n",
       "       Warehouse_block_D  Warehouse_block_F  Mode_of_Shipment_Flight  \\\n",
       "0                      1                  0                        1   \n",
       "1                      0                  1                        1   \n",
       "2                      0                  0                        1   \n",
       "3                      0                  0                        1   \n",
       "4                      0                  0                        1   \n",
       "...                  ...                ...                      ...   \n",
       "10994                  0                  0                        0   \n",
       "10995                  0                  0                        0   \n",
       "10996                  0                  0                        0   \n",
       "10997                  0                  1                        0   \n",
       "10998                  1                  0                        0   \n",
       "\n",
       "       Mode_of_Shipment_Road  Mode_of_Shipment_Ship  Product_importance_high  \\\n",
       "0                          0                      0                        0   \n",
       "1                          0                      0                        0   \n",
       "2                          0                      0                        0   \n",
       "3                          0                      0                        0   \n",
       "4                          0                      0                        0   \n",
       "...                      ...                    ...                      ...   \n",
       "10994                      0                      1                        0   \n",
       "10995                      0                      1                        0   \n",
       "10996                      0                      1                        0   \n",
       "10997                      0                      1                        0   \n",
       "10998                      0                      1                        0   \n",
       "\n",
       "       Product_importance_low  Product_importance_medium  Gender_F  Gender_M  \n",
       "0                           1                          0         1         0  \n",
       "1                           1                          0         0         1  \n",
       "2                           1                          0         0         1  \n",
       "3                           0                          1         0         1  \n",
       "4                           0                          1         1         0  \n",
       "...                       ...                        ...       ...       ...  \n",
       "10994                       0                          1         1         0  \n",
       "10995                       0                          1         1         0  \n",
       "10996                       1                          0         1         0  \n",
       "10997                       0                          1         0         1  \n",
       "10998                       1                          0         1         0  \n",
       "\n",
       "[10999 rows x 13 columns]"
      ]
     },
     "execution_count": 43,
     "metadata": {},
     "output_type": "execute_result"
    }
   ],
   "source": [
    "#creating dummy variables for categorical variable analysis \n",
    "dummy_var=pd.get_dummies(shipping_df[['Warehouse_block','Mode_of_Shipment','Product_importance','Gender']])"
   ]
  },
  {
   "cell_type": "markdown",
   "id": "46f11a91",
   "metadata": {},
   "source": [
    "Dummy variables have been created for the categorical variables to assist in the analysis."
   ]
  },
  {
   "cell_type": "markdown",
   "id": "1104b3eb",
   "metadata": {},
   "source": [
    "## Data Exploration"
   ]
  },
  {
   "cell_type": "code",
   "execution_count": 14,
   "id": "d283108f",
   "metadata": {},
   "outputs": [
    {
     "data": {
      "text/plain": [
       "1    6563\n",
       "0    4436\n",
       "Name: Reached.on.Time_Y.N, dtype: int64"
      ]
     },
     "execution_count": 14,
     "metadata": {},
     "output_type": "execute_result"
    }
   ],
   "source": [
    "# Create variable for 'Reached.on.Time_Y.N' column as we will be using it repeatedly in this analysis.\n",
    "on_time = 'Reached.on.Time_Y.N'\n",
    "#Total count of each variable in the \"Reached on Time\" column\n",
    "shipping_df[on_time].value_counts()"
   ]
  },
  {
   "cell_type": "markdown",
   "id": "f1df43a1",
   "metadata": {},
   "source": [
    "With the above initial statistics table, about 60% of E-Commerce Shipping's deliveries arrive on time, with around 40% being delayed."
   ]
  },
  {
   "cell_type": "code",
   "execution_count": 8,
   "id": "48e186ac",
   "metadata": {},
   "outputs": [
    {
     "data": {
      "text/plain": [
       "<AxesSubplot:title={'center':'Count of Reached on time Yes or No'}, xlabel='Reached.on.Time_Y.N', ylabel='count'>"
      ]
     },
     "execution_count": 8,
     "metadata": {},
     "output_type": "execute_result"
    },
    {
     "data": {
      "image/png": "[encoded data removed]",
      "text/plain": [
       "<Figure size 432x288 with 1 Axes>"
      ]
     },
     "metadata": {
      "needs_background": "light"
     },
     "output_type": "display_data"
    }
   ],
   "source": [
    "# Visualize on time delivery metric\n",
    "plt.title('Count of Reached on time Yes or No')\n",
    "sns.countplot(x =on_time,  data = shipping_df)"
   ]
  },
  {
   "cell_type": "markdown",
   "id": "56b16daa",
   "metadata": {},
   "source": [
    "#### Studying spread of on time deliveries from warehouses"
   ]
  },
  {
   "cell_type": "code",
   "execution_count": 9,
   "id": "ddeb2df2",
   "metadata": {},
   "outputs": [
    {
     "data": {
      "text/plain": [
       "F    3666\n",
       "D    1834\n",
       "A    1833\n",
       "C    1833\n",
       "B    1833\n",
       "Name: Warehouse_block, dtype: int64"
      ]
     },
     "execution_count": 9,
     "metadata": {},
     "output_type": "execute_result"
    }
   ],
   "source": [
    "shipping_df['Warehouse_block'].value_counts()"
   ]
  },
  {
   "cell_type": "markdown",
   "id": "daa6a09a",
   "metadata": {},
   "source": [
    "33% of shipments come from the F block warehouse, while the rest are distributed evenly amongst the other warehouses."
   ]
  },
  {
   "cell_type": "code",
   "execution_count": 8,
   "id": "e2557dde",
   "metadata": {},
   "outputs": [
    {
     "data": {
      "image/png": "[encoded data removed]",
      "text/plain": [
       "<Figure size 648x432 with 1 Axes>"
      ]
     },
     "metadata": {},
     "output_type": "display_data"
    }
   ],
   "source": [
    "# Create a warehouse variable detailing value counts \n",
    "warehouses = shipping_df['Warehouse_block'].value_counts()\n",
    "# Create a pie chart function to reproduce the figure for other variables\n",
    "def create_pie(data) :\n",
    "    plt.figure(figsize=(9, 6))\n",
    "    data.plot.pie(fontsize=14, autopct='%1.0f%%')\n",
    "    plt.show()\n",
    "create_pie(warehouses)"
   ]
  },
  {
   "cell_type": "code",
   "execution_count": 35,
   "id": "0dda139f",
   "metadata": {},
   "outputs": [
    {
     "data": {
      "text/plain": [
       "<AxesSubplot:xlabel='Warehouse_block', ylabel='count'>"
      ]
     },
     "execution_count": 35,
     "metadata": {},
     "output_type": "execute_result"
    },
    {
     "data": {
      "image/png": "[encoded data removed]",
      "text/plain": [
       "<Figure size 432x288 with 1 Axes>"
      ]
     },
     "metadata": {
      "needs_background": "light"
     },
     "output_type": "display_data"
    }
   ],
   "source": [
    "sns.countplot(x='Warehouse_block', hue=on_time, data=shipping_df)"
   ]
  },
  {
   "cell_type": "markdown",
   "id": "97c74c08",
   "metadata": {},
   "source": [
    "The largest number of late and on time deliveries comes from Warehouse F. Although Warehouse F ships about twice as much as the other warehouses making the larger number of late deliveries proportionate, Warehouse F remains a good candidate for further analysis."
   ]
  },
  {
   "cell_type": "markdown",
   "id": "a3dc3fcb",
   "metadata": {},
   "source": [
    "#### Product Importance"
   ]
  },
  {
   "cell_type": "code",
   "execution_count": 6,
   "id": "f60cea2b",
   "metadata": {},
   "outputs": [
    {
     "data": {
      "text/plain": [
       "count     10999\n",
       "unique        3\n",
       "top         low\n",
       "freq       5297\n",
       "Name: Product_importance, dtype: object"
      ]
     },
     "execution_count": 6,
     "metadata": {},
     "output_type": "execute_result"
    }
   ],
   "source": [
    "shipping_df['Product_importance'].describe()"
   ]
  },
  {
   "cell_type": "code",
   "execution_count": 9,
   "id": "59a59a3b",
   "metadata": {},
   "outputs": [
    {
     "data": {
      "image/png": "[encoded data removed]",
      "text/plain": [
       "<Figure size 648x432 with 1 Axes>"
      ]
     },
     "metadata": {},
     "output_type": "display_data"
    }
   ],
   "source": [
    "product_importance = shipping_df['Product_importance'].value_counts()\n",
    "create_pie(product_importance)"
   ]
  },
  {
   "cell_type": "code",
   "execution_count": 54,
   "id": "e1a5a50d",
   "metadata": {},
   "outputs": [
    {
     "data": {
      "text/plain": [
       "<AxesSubplot:xlabel='Product_importance', ylabel='count'>"
      ]
     },
     "execution_count": 54,
     "metadata": {},
     "output_type": "execute_result"
    },
    {
     "data": {
      "image/png": "[encoded data removed]",
      "text/plain": [
       "<Figure size 432x288 with 1 Axes>"
      ]
     },
     "metadata": {
      "needs_background": "light"
     },
     "output_type": "display_data"
    }
   ],
   "source": [
    "# On time deliveries for each importance category\n",
    "sns.countplot(x='Product_importance', hue=on_time, data=shipping_df)"
   ]
  },
  {
   "cell_type": "markdown",
   "id": "33cf66b3",
   "metadata": {},
   "source": [
    "As reflected in the initial statistics, low importance products are the most often shipped, although medium products are not far behind."
   ]
  },
  {
   "cell_type": "markdown",
   "id": "49260ada",
   "metadata": {},
   "source": [
    "#### Exploring Mode of Shipment"
   ]
  },
  {
   "cell_type": "code",
   "execution_count": 14,
   "id": "c7271a76",
   "metadata": {},
   "outputs": [
    {
     "data": {
      "text/plain": [
       "Ship      7462\n",
       "Flight    1777\n",
       "Road      1760\n",
       "Name: Mode_of_Shipment, dtype: int64"
      ]
     },
     "execution_count": 14,
     "metadata": {},
     "output_type": "execute_result"
    }
   ],
   "source": [
    "shipping_df['Mode_of_Shipment'].value_counts()"
   ]
  },
  {
   "cell_type": "markdown",
   "id": "a99820fe",
   "metadata": {},
   "source": [
    "68% of shipments come via Ship, with a nearly equal parity coming from Flight and Road."
   ]
  },
  {
   "cell_type": "code",
   "execution_count": 15,
   "id": "1b6b51db",
   "metadata": {},
   "outputs": [
    {
     "data": {
      "image/png": "[encoded data removed]",
      "text/plain": [
       "<Figure size 648x432 with 1 Axes>"
      ]
     },
     "metadata": {},
     "output_type": "display_data"
    }
   ],
   "source": [
    "shipping_mode = shipping_df['Mode_of_Shipment'].value_counts()\n",
    "create_pie(shipping_mode)"
   ]
  },
  {
   "cell_type": "code",
   "execution_count": 37,
   "id": "027feb55",
   "metadata": {},
   "outputs": [
    {
     "data": {
      "text/html": [
       "<div>\n",
       "<style scoped>\n",
       "    .dataframe tbody tr th:only-of-type {\n",
       "        vertical-align: middle;\n",
       "    }\n",
       "\n",
       "    .dataframe tbody tr th {\n",
       "        vertical-align: top;\n",
       "    }\n",
       "\n",
       "    .dataframe thead th {\n",
       "        text-align: right;\n",
       "    }\n",
       "</style>\n",
       "<table border=\"1\" class=\"dataframe\">\n",
       "  <thead>\n",
       "    <tr style=\"text-align: right;\">\n",
       "      <th></th>\n",
       "      <th></th>\n",
       "      <th>ID</th>\n",
       "    </tr>\n",
       "    <tr>\n",
       "      <th>Warehouse_block</th>\n",
       "      <th>Mode_of_Shipment</th>\n",
       "      <th></th>\n",
       "    </tr>\n",
       "  </thead>\n",
       "  <tbody>\n",
       "    <tr>\n",
       "      <th rowspan=\"3\" valign=\"top\">A</th>\n",
       "      <th>Flight</th>\n",
       "      <td>297</td>\n",
       "    </tr>\n",
       "    <tr>\n",
       "      <th>Road</th>\n",
       "      <td>294</td>\n",
       "    </tr>\n",
       "    <tr>\n",
       "      <th>Ship</th>\n",
       "      <td>1242</td>\n",
       "    </tr>\n",
       "    <tr>\n",
       "      <th rowspan=\"3\" valign=\"top\">B</th>\n",
       "      <th>Flight</th>\n",
       "      <td>296</td>\n",
       "    </tr>\n",
       "    <tr>\n",
       "      <th>Road</th>\n",
       "      <td>294</td>\n",
       "    </tr>\n",
       "    <tr>\n",
       "      <th>Ship</th>\n",
       "      <td>1243</td>\n",
       "    </tr>\n",
       "    <tr>\n",
       "      <th rowspan=\"3\" valign=\"top\">C</th>\n",
       "      <th>Flight</th>\n",
       "      <td>295</td>\n",
       "    </tr>\n",
       "    <tr>\n",
       "      <th>Road</th>\n",
       "      <td>294</td>\n",
       "    </tr>\n",
       "    <tr>\n",
       "      <th>Ship</th>\n",
       "      <td>1244</td>\n",
       "    </tr>\n",
       "    <tr>\n",
       "      <th rowspan=\"3\" valign=\"top\">D</th>\n",
       "      <th>Flight</th>\n",
       "      <td>297</td>\n",
       "    </tr>\n",
       "    <tr>\n",
       "      <th>Road</th>\n",
       "      <td>292</td>\n",
       "    </tr>\n",
       "    <tr>\n",
       "      <th>Ship</th>\n",
       "      <td>1245</td>\n",
       "    </tr>\n",
       "    <tr>\n",
       "      <th rowspan=\"3\" valign=\"top\">F</th>\n",
       "      <th>Flight</th>\n",
       "      <td>592</td>\n",
       "    </tr>\n",
       "    <tr>\n",
       "      <th>Road</th>\n",
       "      <td>586</td>\n",
       "    </tr>\n",
       "    <tr>\n",
       "      <th>Ship</th>\n",
       "      <td>2488</td>\n",
       "    </tr>\n",
       "  </tbody>\n",
       "</table>\n",
       "</div>"
      ],
      "text/plain": [
       "                                    ID\n",
       "Warehouse_block Mode_of_Shipment      \n",
       "A               Flight             297\n",
       "                Road               294\n",
       "                Ship              1242\n",
       "B               Flight             296\n",
       "                Road               294\n",
       "                Ship              1243\n",
       "C               Flight             295\n",
       "                Road               294\n",
       "                Ship              1244\n",
       "D               Flight             297\n",
       "                Road               292\n",
       "                Ship              1245\n",
       "F               Flight             592\n",
       "                Road               586\n",
       "                Ship              2488"
      ]
     },
     "execution_count": 37,
     "metadata": {},
     "output_type": "execute_result"
    },
    {
     "data": {
      "image/png": "[encoded data removed]",
      "text/plain": [
       "<Figure size 432x288 with 1 Axes>"
      ]
     },
     "metadata": {
      "needs_background": "light"
     },
     "output_type": "display_data"
    }
   ],
   "source": [
    "# Create a table and plot showing the distribution of shipment modes across warehouse blocks\n",
    "sns.countplot(x='Warehouse_block', hue='Mode_of_Shipment', data=shipping_df)\n",
    "shipping_df[[\"Mode_of_Shipment\", \"Warehouse_block\", \"ID\"]].groupby([\"Warehouse_block\", \"Mode_of_Shipment\"]).count()"
   ]
  },
  {
   "cell_type": "markdown",
   "id": "43197e37",
   "metadata": {},
   "source": [
    "Warehouse F again sticks out as the largest shipping, road, and flight warehouse, with numbers all nearly double the other warehouses."
   ]
  },
  {
   "cell_type": "code",
   "execution_count": 39,
   "id": "381055eb",
   "metadata": {},
   "outputs": [
    {
     "data": {
      "text/plain": [
       "<AxesSubplot:xlabel='Mode_of_Shipment', ylabel='count'>"
      ]
     },
     "execution_count": 39,
     "metadata": {},
     "output_type": "execute_result"
    },
    {
     "data": {
      "image/png": "[encoded data removed]",
      "text/plain": [
       "<Figure size 432x288 with 1 Axes>"
      ]
     },
     "metadata": {
      "needs_background": "light"
     },
     "output_type": "display_data"
    }
   ],
   "source": [
    "sns.countplot(x='Mode_of_Shipment', hue=on_time, data=shipping_df)"
   ]
  },
  {
   "cell_type": "markdown",
   "id": "205a61b7",
   "metadata": {},
   "source": [
    "With shipping accounting for 68% of E-Commerce shipping's deliveries, it is no surprise shipping has a proportionate amount of late deliveries. All warehouses have about 40% of their deliveries late."
   ]
  },
  {
   "cell_type": "markdown",
   "id": "29941655",
   "metadata": {},
   "source": [
    "#### Customer Care Calls"
   ]
  },
  {
   "cell_type": "code",
   "execution_count": 16,
   "id": "2ffe3a5a",
   "metadata": {},
   "outputs": [
    {
     "data": {
      "text/plain": [
       "count    10999.000000\n",
       "mean         4.054459\n",
       "std          1.141490\n",
       "min          2.000000\n",
       "25%          3.000000\n",
       "50%          4.000000\n",
       "75%          5.000000\n",
       "max          7.000000\n",
       "Name: Customer_care_calls, dtype: float64"
      ]
     },
     "execution_count": 16,
     "metadata": {},
     "output_type": "execute_result"
    }
   ],
   "source": [
    "# Show initial customer care calls statistics\n",
    "care_calls = shipping_df['Customer_care_calls']\n",
    "care_calls.describe()"
   ]
  },
  {
   "cell_type": "code",
   "execution_count": 17,
   "id": "6849fd85",
   "metadata": {},
   "outputs": [
    {
     "data": {
      "text/plain": [
       "4    3557\n",
       "3    3217\n",
       "5    2328\n",
       "6    1013\n",
       "2     638\n",
       "7     246\n",
       "Name: Customer_care_calls, dtype: int64"
      ]
     },
     "execution_count": 17,
     "metadata": {},
     "output_type": "execute_result"
    }
   ],
   "source": [
    "care_calls.value_counts()"
   ]
  },
  {
   "cell_type": "code",
   "execution_count": 18,
   "id": "075a576b",
   "metadata": {},
   "outputs": [
    {
     "data": {
      "image/png": "[encoded data removed]",
      "text/plain": [
       "<Figure size 648x432 with 1 Axes>"
      ]
     },
     "metadata": {},
     "output_type": "display_data"
    }
   ],
   "source": [
    "create_pie(care_calls.value_counts())"
   ]
  },
  {
   "cell_type": "markdown",
   "id": "e16d3348",
   "metadata": {},
   "source": [
    "The biggest distribution of customer care calls occurs between 3 and 4. 4 care calls is both the largest at 32%, and the mean of customer care calls."
   ]
  },
  {
   "cell_type": "code",
   "execution_count": 17,
   "id": "7e06e1bc",
   "metadata": {},
   "outputs": [
    {
     "data": {
      "text/plain": [
       "<AxesSubplot:xlabel='Customer_care_calls', ylabel='count'>"
      ]
     },
     "execution_count": 17,
     "metadata": {},
     "output_type": "execute_result"
    },
    {
     "data": {
      "image/png": "[encoded data removed]",
      "text/plain": [
       "<Figure size 432x288 with 1 Axes>"
      ]
     },
     "metadata": {
      "needs_background": "light"
     },
     "output_type": "display_data"
    }
   ],
   "source": [
    "# Show the distribution of customer care calls for on time deliveries\n",
    "sns.countplot(x='Customer_care_calls', hue=on_time, data=shipping_df)"
   ]
  },
  {
   "cell_type": "markdown",
   "id": "fcbcaca4",
   "metadata": {},
   "source": [
    "Highest concentration by count of care calls in the 3-4 range. However, customer care calls at 6 and 7 show a much higher proportion of late and on time deliveries."
   ]
  },
  {
   "cell_type": "markdown",
   "id": "224e9b4c",
   "metadata": {},
   "source": [
    "## Key Insights"
   ]
  },
  {
   "cell_type": "markdown",
   "id": "a5da8e6b",
   "metadata": {},
   "source": [
    "After completing our exploratory analysis, we will now explore some key insights revealed in our data and look to uncover any insights related to accomplishing our business problem."
   ]
  },
  {
   "cell_type": "code",
   "execution_count": 55,
   "id": "dcff1374",
   "metadata": {},
   "outputs": [
    {
     "data": {
      "text/plain": [
       "<AxesSubplot:xlabel='Customer_care_calls', ylabel='Reached.on.Time_Y.N'>"
      ]
     },
     "execution_count": 55,
     "metadata": {},
     "output_type": "execute_result"
    },
    {
     "data": {
      "image/png": "[encoded data removed]",
      "text/plain": [
       "<Figure size 432x288 with 1 Axes>"
      ]
     },
     "metadata": {
      "needs_background": "light"
     },
     "output_type": "display_data"
    }
   ],
   "source": [
    "# Explore a linear regressions with customer care calls and the on time delivery metric.\n",
    "sns.regplot(x='Customer_care_calls', y=on_time, data=shipping_df)"
   ]
  },
  {
   "cell_type": "markdown",
   "id": "30553f5a",
   "metadata": {},
   "source": [
    "There looks to be a slight correlation between the number of customer care calls and the delivery reaching on time. The more care calls are placed, the less often the product arrives on time. This could be because late deliveries may cause more care calls to be placed. An area for continuous improvement for E-Commerce shipping could look to how do we reduce customer care calls and determine whether improving on time deliveries would also reduce customer care calls."
   ]
  },
  {
   "cell_type": "code",
   "execution_count": 58,
   "id": "7ee3681e",
   "metadata": {},
   "outputs": [
    {
     "data": {
      "text/plain": [
       "<AxesSubplot:xlabel='Customer_care_calls', ylabel='Cost_of_the_Product'>"
      ]
     },
     "execution_count": 58,
     "metadata": {},
     "output_type": "execute_result"
    },
    {
     "data": {
      "image/png": "[encoded data removed]",
      "text/plain": [
       "<Figure size 432x288 with 1 Axes>"
      ]
     },
     "metadata": {
      "needs_background": "light"
     },
     "output_type": "display_data"
    }
   ],
   "source": [
    "# Is product cost correlated with customer care calls?\n",
    "sns.regplot(x='Customer_care_calls', y='Cost_of_the_Product', data=shipping_df)"
   ]
  },
  {
   "cell_type": "markdown",
   "id": "46818781",
   "metadata": {},
   "source": [
    "The more costly the product is, the more customer care calls there are. This metric could be important when determining if unprofitable products are more costly or have trouble reaching the customer on time."
   ]
  },
  {
   "cell_type": "markdown",
   "id": "a78565ff",
   "metadata": {},
   "source": [
    "#### Product Cost"
   ]
  },
  {
   "cell_type": "code",
   "execution_count": 10,
   "id": "8194b99e",
   "metadata": {},
   "outputs": [
    {
     "data": {
      "image/png": "[encoded data removed]",
      "text/plain": [
       "<Figure size 432x288 with 1 Axes>"
      ]
     },
     "metadata": {
      "needs_background": "light"
     },
     "output_type": "display_data"
    }
   ],
   "source": [
    "# Generate a histogram showing distribution of product cost\n",
    "product_cost = shipping_df[\"Cost_of_the_Product\"]\n",
    "plt.hist(product_cost)\n",
    "plt.show()"
   ]
  },
  {
   "cell_type": "markdown",
   "id": "41584f49",
   "metadata": {},
   "source": [
    "Largest concentration of product cost distributed between the 225 and 275 range."
   ]
  },
  {
   "cell_type": "code",
   "execution_count": 61,
   "id": "aa4472da",
   "metadata": {},
   "outputs": [
    {
     "data": {
      "text/plain": [
       "<AxesSubplot:xlabel='Cost_of_the_Product', ylabel='Reached.on.Time_Y.N'>"
      ]
     },
     "execution_count": 61,
     "metadata": {},
     "output_type": "execute_result"
    },
    {
     "data": {
      "image/png": "[encoded data removed]",
      "text/plain": [
       "<Figure size 432x288 with 1 Axes>"
      ]
     },
     "metadata": {
      "needs_background": "light"
     },
     "output_type": "display_data"
    }
   ],
   "source": [
    "# Regression plot for product cost vs. on time deliveries\n",
    "sns.regplot(x=product_cost, y=on_time, data=shipping_df)"
   ]
  },
  {
   "cell_type": "markdown",
   "id": "d2406675",
   "metadata": {},
   "source": [
    "Lower cost products reach customers on time more often. Higher cost products are also correlated with higher customer care calls."
   ]
  },
  {
   "cell_type": "markdown",
   "id": "9bb5851f",
   "metadata": {},
   "source": [
    "#### Customer Rating"
   ]
  },
  {
   "cell_type": "code",
   "execution_count": 64,
   "id": "831959b6",
   "metadata": {},
   "outputs": [
    {
     "data": {
      "text/plain": [
       "<AxesSubplot:xlabel='Customer_rating', ylabel='Reached.on.Time_Y.N'>"
      ]
     },
     "execution_count": 64,
     "metadata": {},
     "output_type": "execute_result"
    },
    {
     "data": {
      "image/png": "[encoded data removed]",
      "text/plain": [
       "<Figure size 432x288 with 1 Axes>"
      ]
     },
     "metadata": {
      "needs_background": "light"
     },
     "output_type": "display_data"
    }
   ],
   "source": [
    "# Plot regression plot for customer rating and on time deliveries\n",
    "sns.regplot(x='Customer_rating', y=on_time, data=shipping_df)"
   ]
  },
  {
   "cell_type": "markdown",
   "id": "741c451b",
   "metadata": {},
   "source": [
    "No correlation between customer rating and deliveries being reached on time. As costs have a greater incidence of correlation with on time deliveries, attempts by E-Commerce shipping to increase delivery timing could be a metric primarily cost centered and not for improving customer rating."
   ]
  },
  {
   "cell_type": "code",
   "execution_count": 66,
   "id": "cbd0a449",
   "metadata": {},
   "outputs": [
    {
     "data": {
      "image/png": "[encoded data removed]",
      "text/plain": [
       "<Figure size 1152x360 with 2 Axes>"
      ]
     },
     "metadata": {
      "needs_background": "light"
     },
     "output_type": "display_data"
    }
   ],
   "source": [
    "#Correlation plot to determine if any variables are correlated with on time delivery\n",
    "col_list = [\"Customer_care_calls\",\"Customer_rating\",\"Cost_of_the_Product\",\"Prior_purchases\",\"Discount_offered\",\"Weight_in_gms\",\"Reached.on.Time_Y.N\"]\n",
    "plt.figure(figsize = (16,5))\n",
    "sns.heatmap(shipping_df[col_list].corr(), annot = True, fmt = \".2f\")\n",
    "plt.show()"
   ]
  },
  {
   "cell_type": "markdown",
   "id": "6b610d21",
   "metadata": {},
   "source": [
    "From the correlation plot we can deduce some interesting correlations:\n",
    "\n",
    "- Discount offered has a correlation with deliveries being reached on time with a value of .40. \n",
    "- Cost of the product also has a correlation with customer care calls, at .32.\n",
    "- The weight in gms of the product has a negative correlation between the product reaching on time. We can likely deduce that a heavier product may impact shipping delivery time."
   ]
  },
  {
   "cell_type": "markdown",
   "id": "797535dd",
   "metadata": {},
   "source": [
    "#### Discount Offered"
   ]
  },
  {
   "cell_type": "code",
   "execution_count": 25,
   "id": "b30a2964",
   "metadata": {},
   "outputs": [
    {
     "data": {
      "text/plain": [
       "<AxesSubplot:xlabel='Reached.on.Time_Y.N', ylabel='Discount_offered'>"
      ]
     },
     "execution_count": 25,
     "metadata": {},
     "output_type": "execute_result"
    },
    {
     "data": {
      "image/png": "[encoded data removed]",
      "text/plain": [
       "<Figure size 432x288 with 1 Axes>"
      ]
     },
     "metadata": {
      "needs_background": "light"
     },
     "output_type": "display_data"
    }
   ],
   "source": [
    "# Generate regression plot for on time deliveries and discounts offered\n",
    "sns.regplot(x=on_time, y=\"Discount_offered\", data=shipping_df)"
   ]
  },
  {
   "cell_type": "markdown",
   "id": "c0b6539d",
   "metadata": {},
   "source": [
    "Discounts 10 and below are correlated more with late deliveries. Discounts above 10 had a higher incidence of being on time."
   ]
  },
  {
   "cell_type": "code",
   "execution_count": 15,
   "id": "e8503167",
   "metadata": {},
   "outputs": [
    {
     "data": {
      "text/plain": [
       "<AxesSubplot:xlabel='Weight_in_gms', ylabel='Reached.on.Time_Y.N'>"
      ]
     },
     "execution_count": 15,
     "metadata": {},
     "output_type": "execute_result"
    },
    {
     "data": {
      "image/png": "[encoded data removed]",
      "text/plain": [
       "<Figure size 432x288 with 1 Axes>"
      ]
     },
     "metadata": {
      "needs_background": "light"
     },
     "output_type": "display_data"
    }
   ],
   "source": [
    "# Generate regression plot for product weight and on time deliveries\n",
    "sns.regplot(x='Weight_in_gms', y=on_time, data=shipping_df)"
   ]
  },
  {
   "cell_type": "markdown",
   "id": "96b0ab50",
   "metadata": {},
   "source": [
    "Reflected in the correlation plot above, lighter products reach their destination on time more often than heavier products"
   ]
  },
  {
   "cell_type": "markdown",
   "id": "8f672469",
   "metadata": {},
   "source": [
    "## Recommendations"
   ]
  },
  {
   "cell_type": "markdown",
   "id": "108b2199",
   "metadata": {},
   "source": [
    "- E-Commerce shipping should perform a lean six sigma analysis on Warehouse F and discover the primary inefficiency driving late deliveries. Once this is discovered, develop a continuous improvement plan using the DMAIC framework to improve this constraint and then monitor the results over time. Once the improvement plan is complete, perform another analysis and see if on time deliveries have been improved over 60% and study this relationship to see if it results in the incidence of less costs.\n",
    "- Perform an Pareto (80/20) analysis on selling patterns of products based on weight. Consider cutting the 20% least profitable and heaviest products and replacing them with the most profitable 20% light products with good selling patterns. This should increase the on time delivery metric (according to the regplot in the report) and increase E-Commerce Shipping's revenue.\n",
    "- Customer care calls: Late deliveries form a much higher percentage of care calls in the 6-7 range. As 4 is the mean of care calls, analyze care calls in the 5 and up range (particularly 6 and 7), and determine how much late deliveries are contributing to increased customer service costs. Reducing E-Commerce shipping's late deliveries should have a decrease in the amount of customer service calls needed, and reduce customer service costs.\n",
    "- Discounts offered has the highest correlation with a product reaching the customer on time. The discount program should be further analyzed to determine what the optimal discount should be for on time product delivery. A root cause analysis should be performed to further understand the relationship between discounts and deliveries, with a follow up report published to management detailing the results."
   ]
  },
  {
   "cell_type": "code",
   "execution_count": null,
   "id": "4c3fd319",
   "metadata": {},
   "outputs": [],
   "source": []
  }
 ],
 "metadata": {
  "kernelspec": {
   "display_name": "Python 3",
   "language": "python",
   "name": "python3"
  },
  "language_info": {
   "codemirror_mode": {
    "name": "ipython",
    "version": 3
   },
   "file_extension": ".py",
   "mimetype": "text/x-python",
   "name": "python",
   "nbconvert_exporter": "python",
   "pygments_lexer": "ipython3",
   "version": "3.8.3"
  }
 },
 "nbformat": 4,
 "nbformat_minor": 5
}
